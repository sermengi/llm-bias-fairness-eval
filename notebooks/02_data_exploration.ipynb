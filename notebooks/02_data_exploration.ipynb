{
 "cells": [
  {
   "cell_type": "code",
   "execution_count": null,
   "id": "0599d916",
   "metadata": {},
   "outputs": [],
   "source": [
    "from datasets import load_dataset"
   ]
  },
  {
   "cell_type": "code",
   "execution_count": null,
   "id": "d68daab3",
   "metadata": {},
   "outputs": [],
   "source": [
    "dataset = load_dataset(\n",
    "    \"satoshidg/GSM-MC-Stage\",\n",
    "    data_files=\"test.csv\",\n",
    "    split=\"train\",\n",
    ")"
   ]
  },
  {
   "cell_type": "code",
   "execution_count": null,
   "id": "427fea2a",
   "metadata": {},
   "outputs": [],
   "source": [
    "dataset[0]"
   ]
  },
  {
   "cell_type": "code",
   "execution_count": null,
   "id": "074a6d86",
   "metadata": {},
   "outputs": [],
   "source": [
    "def get_question(sample):\n",
    "    question = sample[\"Question\"]\n",
    "    choices = {choice: sample[choice] for choice in [\"A\", \"B\", \"C\", \"D\"]}\n",
    "    answer = sample[\"Answer\"]\n",
    "    return question, choices, answer"
   ]
  },
  {
   "cell_type": "code",
   "execution_count": null,
   "id": "70dcc403",
   "metadata": {},
   "outputs": [],
   "source": [
    "question, choices, answer = get_question(dataset[20])\n",
    "print(\"Question:\", question)\n",
    "print(\"Choices:\", choices)\n",
    "print(\"Answer:\", answer)"
   ]
  },
  {
   "cell_type": "code",
   "execution_count": null,
   "id": "b089b4d6",
   "metadata": {},
   "outputs": [],
   "source": [
    "class PromptBuilder:\n",
    "    def __init__(self, dataset_name, data_files=None, split=\"train\", max_samples=None):\n",
    "        self.dataset = load_dataset(dataset_name, data_files=data_files, split=split)\n",
    "        if max_samples:\n",
    "            self.dataset = self.dataset.select(range(max_samples))\n",
    "\n",
    "    def format_sample(self, sample, answer=None):\n",
    "        context = sample.get(\"context\", \"\").strip()\n",
    "        question = sample[\"Question\"]\n",
    "        choices = {k: str(v) for k, v in sample.items() if k in [\"A\", \"B\", \"C\", \"D\"]}\n",
    "        choice_list = \"\\n\".join(\n",
    "            [f\"{option}. {choice}\" for option, choice in choices.items()]\n",
    "        )\n",
    "\n",
    "        prompt = f\"{context}\\n\\nQuestion: {question}\\n\\nChoices:\\n{choice_list}\"\n",
    "\n",
    "        if answer is not None:\n",
    "            prompt += f\"\\n\\nAnswer: {answer}\"\n",
    "\n",
    "        return prompt\n",
    "\n",
    "    def get_sample_prompt(self, index):\n",
    "        sample = self.dataset[index]\n",
    "        prompt = self.format_sample(sample=sample, answer=sample[\"Answer\"])\n",
    "        return prompt\n",
    "\n",
    "    def get_prompts(self):\n",
    "        return [self.format_sample(sample) for sample in self.dataset]"
   ]
  },
  {
   "cell_type": "code",
   "execution_count": null,
   "id": "70148e7f",
   "metadata": {},
   "outputs": [],
   "source": [
    "prompt_builder = PromptBuilder(\n",
    "    \"satoshidg/GSM-MC-Stage\",\n",
    "    split=\"train\",\n",
    "    data_files=\"test.csv\",\n",
    "    max_samples=5,\n",
    ")"
   ]
  },
  {
   "cell_type": "code",
   "execution_count": 1,
   "id": "0b70fd22",
   "metadata": {},
   "outputs": [
    {
     "data": {
      "text/plain": [
       "'/home/sermengi/llm-bias-fairness-eval'"
      ]
     },
     "execution_count": 1,
     "metadata": {},
     "output_type": "execute_result"
    }
   ],
   "source": [
    "import os\n",
    "\n",
    "os.chdir(\"../\")\n",
    "os.getcwd()"
   ]
  },
  {
   "cell_type": "code",
   "execution_count": 2,
   "id": "a4deea51",
   "metadata": {},
   "outputs": [],
   "source": [
    "from src.config import ConfigurationManager"
   ]
  },
  {
   "cell_type": "code",
   "execution_count": 3,
   "id": "5b5329e9",
   "metadata": {},
   "outputs": [
    {
     "name": "stdout",
     "output_type": "stream",
     "text": [
      "[2025-05-30 18:07:34,020: INFO: common: YAML FILE: config.yaml loaded successfully]\n"
     ]
    }
   ],
   "source": [
    "config_manager = ConfigurationManager(\"config.yaml\")"
   ]
  },
  {
   "cell_type": "code",
   "execution_count": 4,
   "id": "cf927357",
   "metadata": {},
   "outputs": [],
   "source": [
    "model_configs = config_manager.get_model_configuration()"
   ]
  },
  {
   "cell_type": "code",
   "execution_count": 6,
   "id": "732f4101",
   "metadata": {},
   "outputs": [
    {
     "data": {
      "text/plain": [
       "'nvidia/Llama-3.1-Nemotron-Nano-4B-v1.1'"
      ]
     },
     "execution_count": 6,
     "metadata": {},
     "output_type": "execute_result"
    }
   ],
   "source": [
    "model_configs.model_name"
   ]
  },
  {
   "cell_type": "code",
   "execution_count": 9,
   "id": "372de3ab",
   "metadata": {},
   "outputs": [
    {
     "name": "stdout",
     "output_type": "stream",
     "text": [
      "List is empty!\n"
     ]
    }
   ],
   "source": [
    "if model_configs.allowed_choices:\n",
    "    print(\"List not empty\")\n",
    "else:\n",
    "    print(\"List is empty!\")"
   ]
  },
  {
   "cell_type": "code",
   "execution_count": null,
   "id": "2345815b",
   "metadata": {},
   "outputs": [],
   "source": []
  }
 ],
 "metadata": {
  "kernelspec": {
   "display_name": ".venv",
   "language": "python",
   "name": "python3"
  },
  "language_info": {
   "codemirror_mode": {
    "name": "ipython",
    "version": 3
   },
   "file_extension": ".py",
   "mimetype": "text/x-python",
   "name": "python",
   "nbconvert_exporter": "python",
   "pygments_lexer": "ipython3",
   "version": "3.11.12"
  }
 },
 "nbformat": 4,
 "nbformat_minor": 5
}
