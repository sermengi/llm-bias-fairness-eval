{
 "cells": [
  {
   "cell_type": "code",
   "execution_count": null,
   "id": "0",
   "metadata": {},
   "outputs": [],
   "source": [
    "from datasets import load_dataset"
   ]
  },
  {
   "cell_type": "code",
   "execution_count": null,
   "id": "1",
   "metadata": {},
   "outputs": [],
   "source": [
    "dataset = load_dataset(\n",
    "    \"satoshidg/GSM-MC-Stage\",\n",
    "    data_files=\"test.csv\",\n",
    "    split=\"train\",\n",
    ")"
   ]
  },
  {
   "cell_type": "code",
   "execution_count": null,
   "id": "2",
   "metadata": {},
   "outputs": [],
   "source": [
    "dataset[0]"
   ]
  },
  {
   "cell_type": "code",
   "execution_count": null,
   "id": "3",
   "metadata": {},
   "outputs": [],
   "source": [
    "def get_question(sample):\n",
    "    question = sample[\"Question\"]\n",
    "    choices = {choice: sample[choice] for choice in [\"A\", \"B\", \"C\", \"D\"]}\n",
    "    answer = sample[\"Answer\"]\n",
    "    return question, choices, answer"
   ]
  },
  {
   "cell_type": "code",
   "execution_count": null,
   "id": "4",
   "metadata": {},
   "outputs": [],
   "source": [
    "question, choices, answer = get_question(dataset[20])\n",
    "print(\"Question:\", question)\n",
    "print(\"Choices:\", choices)\n",
    "print(\"Answer:\", answer)"
   ]
  },
  {
   "cell_type": "code",
   "execution_count": null,
   "id": "5",
   "metadata": {},
   "outputs": [],
   "source": [
    "class PromptBuilder:\n",
    "    def __init__(self, dataset_name, data_files=None, split=\"train\", max_samples=None):\n",
    "        self.dataset = load_dataset(dataset_name, data_files=data_files, split=split)\n",
    "        if max_samples:\n",
    "            self.dataset = self.dataset.select(range(max_samples))\n",
    "\n",
    "    def format_sample(self, sample, answer=None):\n",
    "        context = sample.get(\"context\", \"\").strip()\n",
    "        question = sample[\"Question\"]\n",
    "        choices = {k: str(v) for k, v in sample.items() if k in [\"A\", \"B\", \"C\", \"D\"]}\n",
    "        choice_list = \"\\n\".join(\n",
    "            [f\"{option}. {choice}\" for option, choice in choices.items()]\n",
    "        )\n",
    "\n",
    "        prompt = f\"{context}\\n\\nQuestion: {question}\\n\\nChoices:\\n{choice_list}\"\n",
    "\n",
    "        if answer is not None:\n",
    "            prompt += f\"\\n\\nAnswer: {answer}\"\n",
    "\n",
    "        return prompt\n",
    "\n",
    "    def get_sample_prompt(self, index):\n",
    "        sample = self.dataset[index]\n",
    "        prompt = self.format_sample(sample=sample, answer=sample[\"Answer\"])\n",
    "        return prompt\n",
    "\n",
    "    def get_prompts(self):\n",
    "        return [self.format_sample(sample) for sample in self.dataset]"
   ]
  },
  {
   "cell_type": "code",
   "execution_count": null,
   "id": "6",
   "metadata": {},
   "outputs": [],
   "source": [
    "prompt_builder = PromptBuilder(\n",
    "    \"satoshidg/GSM-MC-Stage\",\n",
    "    split=\"train\",\n",
    "    data_files=\"test.csv\",\n",
    "    max_samples=5,\n",
    ")"
   ]
  },
  {
   "cell_type": "code",
   "execution_count": null,
   "id": "7",
   "metadata": {},
   "outputs": [],
   "source": [
    "import os\n",
    "\n",
    "os.chdir(\"../\")\n",
    "os.getcwd()"
   ]
  },
  {
   "cell_type": "code",
   "execution_count": null,
   "id": "8",
   "metadata": {},
   "outputs": [],
   "source": [
    "from src.config import ConfigurationManager"
   ]
  },
  {
   "cell_type": "code",
   "execution_count": null,
   "id": "9",
   "metadata": {},
   "outputs": [],
   "source": [
    "config_manager = ConfigurationManager(\"config.yaml\")"
   ]
  },
  {
   "cell_type": "code",
   "execution_count": null,
   "id": "10",
   "metadata": {},
   "outputs": [],
   "source": [
    "model_configs = config_manager.get_model_configuration()"
   ]
  },
  {
   "cell_type": "code",
   "execution_count": null,
   "id": "11",
   "metadata": {},
   "outputs": [],
   "source": [
    "model_configs.model_name"
   ]
  },
  {
   "cell_type": "code",
   "execution_count": null,
   "id": "12",
   "metadata": {},
   "outputs": [],
   "source": [
    "if model_configs.allowed_choices:\n",
    "    print(\"List not empty\")\n",
    "else:\n",
    "    print(\"List is empty!\")"
   ]
  },
  {
   "cell_type": "code",
   "execution_count": null,
   "id": "13",
   "metadata": {},
   "outputs": [],
   "source": [
    "import os\n",
    "os.chdir(\"../\")\n",
    "os.getcwd()"
   ]
  },
  {
   "cell_type": "code",
   "execution_count": null,
   "id": "14",
   "metadata": {},
   "outputs": [],
   "source": [
    "from src.config import ConfigurationManager"
   ]
  },
  {
   "cell_type": "code",
   "execution_count": null,
   "id": "15",
   "metadata": {},
   "outputs": [],
   "source": [
    "config = ConfigurationManager(\"config.yaml\")"
   ]
  },
  {
   "cell_type": "code",
   "execution_count": null,
   "id": "16",
   "metadata": {},
   "outputs": [],
   "source": [
    "model_config = config.get_model_configuration()"
   ]
  },
  {
   "cell_type": "code",
   "execution_count": null,
   "id": "17",
   "metadata": {},
   "outputs": [],
   "source": [
    "model_config"
   ]
  },
  {
   "cell_type": "code",
   "execution_count": null,
   "id": "18",
   "metadata": {},
   "outputs": [],
   "source": []
  }
 ],
 "metadata": {
  "kernelspec": {
   "display_name": ".venv",
   "language": "python",
   "name": "python3"
  },
  "language_info": {
   "codemirror_mode": {
    "name": "ipython",
    "version": 3
   },
   "file_extension": ".py",
   "mimetype": "text/x-python",
   "name": "python",
   "nbconvert_exporter": "python",
   "pygments_lexer": "ipython3",
   "version": "3.11.12"
  }
 },
 "nbformat": 4,
 "nbformat_minor": 5
}
